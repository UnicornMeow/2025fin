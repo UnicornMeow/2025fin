{
  "nbformat": 4,
  "nbformat_minor": 0,
  "metadata": {
    "colab": {
      "provenance": []
    },
    "kernelspec": {
      "name": "python3",
      "display_name": "Python 3"
    },
    "language_info": {
      "name": "python"
    }
  },
  "cells": [
    {
      "cell_type": "code",
      "execution_count": 18,
      "metadata": {
        "id": "bxKc6tFRNtM_"
      },
      "outputs": [],
      "source": [
        "import numpy as np"
      ]
    },
    {
      "cell_type": "code",
      "source": [
        "import scipy.stats as si"
      ],
      "metadata": {
        "id": "JyAuOA8COrvL"
      },
      "execution_count": 19,
      "outputs": []
    },
    {
      "cell_type": "code",
      "source": [
        "C = []\n",
        "T = []"
      ],
      "metadata": {
        "id": "scZembN5O2ms"
      },
      "execution_count": 20,
      "outputs": []
    },
    {
      "cell_type": "code",
      "source": [
        "d1 = (np.log(90/100)+(0.01+0.5*0.3**2)*1)/(0.3*np.sqrt(1))\n",
        "d2 = (np.log(90/100)+(0.01-0.5*0.3**2)*1)/(0.3*np.sqrt(1))\n",
        "call = 90*si.norm.cdf(d1,0.0,1.0)-100*np.exp(-0.01*1)*si.norm.cdf(d2,0.0,1.0)\n",
        "T.append(1)\n",
        "C.append(call)"
      ],
      "metadata": {
        "id": "ctiv0WulRC6C"
      },
      "execution_count": 21,
      "outputs": []
    },
    {
      "cell_type": "code",
      "source": [
        "d1 = (np.log(90/100)+(0.01+0.5*0.3**2)*0.9)/(0.3*np.sqrt(0.9))\n",
        "d2 = (np.log(90/100)+(0.01-0.5*0.3**2)*0.9)/(0.3*np.sqrt(0.9))\n",
        "call = 90*si.norm.cdf(d1,0.0,1.0)-100*np.exp(-0.01*0.9)*si.norm.cdf(d2,0.0,1.0)\n",
        "T.append(0.9)\n",
        "C.append(call)"
      ],
      "metadata": {
        "id": "zn1KyiaXR3bY"
      },
      "execution_count": 22,
      "outputs": []
    },
    {
      "cell_type": "code",
      "source": [
        "T,C"
      ],
      "metadata": {
        "colab": {
          "base_uri": "https://localhost:8080/"
        },
        "id": "Q2r4gN1cSDIz",
        "outputId": "6625c4b5-3aa0-4580-b2a9-0bd13b2c2a2e"
      },
      "execution_count": 23,
      "outputs": [
        {
          "output_type": "execute_result",
          "data": {
            "text/plain": [
              "([1, 0.9], [np.float64(7.325316316806507), np.float64(6.750179641562781)])"
            ]
          },
          "metadata": {},
          "execution_count": 23
        }
      ]
    },
    {
      "cell_type": "code",
      "source": [
        "d1 = (np.log(90/100)+(0.01+0.5*0.3**2)*0.5)/(0.3*np.sqrt(0.5))\n",
        "d2 = (np.log(90/100)+(0.01-0.5*0.3**2)*0.5)/(0.3*np.sqrt(0.5))\n",
        "call = 90*si.norm.cdf(d1,0.0,1.0)-100*np.exp(-0.01*0.5)*si.norm.cdf(d2,0.0,1.0)\n",
        "T.append(0.5)\n",
        "C.append(call)"
      ],
      "metadata": {
        "id": "w-t1ZxbhSEY8"
      },
      "execution_count": 24,
      "outputs": []
    },
    {
      "cell_type": "code",
      "source": [
        "d1 = (np.log(90/100)+(0.01+0.5*0.3**2)*0.3)/(0.3*np.sqrt(0.3))\n",
        "d2 = (np.log(90/100)+(0.01-0.5*0.3**2)*0.3)/(0.3*np.sqrt(0.3))\n",
        "call = 90*si.norm.cdf(d1,0.0,1.0)-100*np.exp(-0.01*0.3)*si.norm.cdf(d2,0.0,1.0)\n",
        "T.append(0.3)\n",
        "C.append(call)"
      ],
      "metadata": {
        "id": "e8v7AxAzSgM7"
      },
      "execution_count": 25,
      "outputs": []
    },
    {
      "cell_type": "code",
      "source": [
        "d1 = (np.log(90/100)+(0.01+0.5*0.3**2)*0.1)/(0.3*np.sqrt(0.1))\n",
        "d2 = (np.log(90/100)+(0.01-0.5*0.3**2)*0.1)/(0.3*np.sqrt(0.1))\n",
        "call = 90*si.norm.cdf(d1,0.0,1.0)-100*np.exp(-0.01*0.1)*si.norm.cdf(d2,0.0,1.0)\n",
        "T.append(0.1)\n",
        "C.append(call)"
      ],
      "metadata": {
        "id": "IXZPa7fsSsDd"
      },
      "execution_count": 26,
      "outputs": []
    },
    {
      "cell_type": "code",
      "source": [
        "T,C"
      ],
      "metadata": {
        "colab": {
          "base_uri": "https://localhost:8080/"
        },
        "id": "T1FkPyqgS4g6",
        "outputId": "9766f65c-a501-4b3d-8e7e-46e1751c84fa"
      },
      "execution_count": 27,
      "outputs": [
        {
          "output_type": "execute_result",
          "data": {
            "text/plain": [
              "([1, 0.9, 0.5, 0.3, 0.1],\n",
              " [np.float64(7.325316316806507),\n",
              "  np.float64(6.750179641562781),\n",
              "  np.float64(4.128125544870759),\n",
              "  np.float64(2.5241688673926532),\n",
              "  np.float64(0.6167434536213108)])"
            ]
          },
          "metadata": {},
          "execution_count": 27
        }
      ]
    },
    {
      "cell_type": "code",
      "source": [
        "T2 = []"
      ],
      "metadata": {
        "id": "-_oocUMfS5y5"
      },
      "execution_count": 28,
      "outputs": []
    },
    {
      "cell_type": "code",
      "source": [
        "C2 = []"
      ],
      "metadata": {
        "id": "OrzH69SsTCnm"
      },
      "execution_count": 29,
      "outputs": []
    },
    {
      "cell_type": "code",
      "source": [
        "for i in range(10, 0, -1):\n",
        "  t = i/10\n",
        "  d1 = (np.log(90/100)+(0.01+0.5*0.3**2)*t)/(0.3*np.sqrt(t))\n",
        "  d2 = (np.log(90/100)+(0.01-0.5*0.3**2)*t)/(0.3*np.sqrt(t))\n",
        "  call = 90*si.norm.cdf(d1,0.0,1.0)-100*np.exp(-0.01*t)*si.norm.cdf(d2,0.0,1.0)\n",
        "  T2.append(t)\n",
        "  C2.append(call)"
      ],
      "metadata": {
        "id": "hML8gd4QTDte"
      },
      "execution_count": 30,
      "outputs": []
    },
    {
      "cell_type": "code",
      "source": [
        "import matplotlib.pyplot as plt"
      ],
      "metadata": {
        "id": "EnjRz8NKTs4p"
      },
      "execution_count": 31,
      "outputs": []
    },
    {
      "cell_type": "code",
      "source": [
        "plt.plot(T2,C2)"
      ],
      "metadata": {
        "colab": {
          "base_uri": "https://localhost:8080/",
          "height": 447
        },
        "id": "NK0pGsPMTxrr",
        "outputId": "5af98ff6-0ef2-436c-b8b6-7b5482c958b1"
      },
      "execution_count": 32,
      "outputs": [
        {
          "output_type": "execute_result",
          "data": {
            "text/plain": [
              "[<matplotlib.lines.Line2D at 0x7f21f6faa950>]"
            ]
          },
          "metadata": {},
          "execution_count": 32
        },
        {
          "output_type": "display_data",
          "data": {
            "text/plain": [
              "<Figure size 640x480 with 1 Axes>"
            ],
            "image/png": "[encoded data removed]"
          },
          "metadata": {}
        }
      ]
    },
    {
      "cell_type": "code",
      "source": [],
      "metadata": {
        "id": "JJQIc03uT07I"
      },
      "execution_count": null,
      "outputs": []
    }
  ]
}